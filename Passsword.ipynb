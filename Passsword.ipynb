{
  "nbformat": 4,
  "nbformat_minor": 0,
  "metadata": {
    "colab": {
      "provenance": [],
      "authorship_tag": "ABX9TyOpoJtOxWi+86ntC1aWjHJV",
      "include_colab_link": true
    },
    "kernelspec": {
      "name": "python3",
      "display_name": "Python 3"
    },
    "language_info": {
      "name": "python"
    }
  },
  "cells": [
    {
      "cell_type": "markdown",
      "metadata": {
        "id": "view-in-github",
        "colab_type": "text"
      },
      "source": [
        "<a href=\"https://colab.research.google.com/github/deepaligoyal04/password.prj2/blob/main/Passsword.ipynb\" target=\"_parent\"><img src=\"https://colab.research.google.com/assets/colab-badge.svg\" alt=\"Open In Colab\"/></a>"
      ]
    },
    {
      "cell_type": "code",
      "execution_count": 1,
      "metadata": {
        "colab": {
          "base_uri": "https://localhost:8080/"
        },
        "id": "1euRBUjUzGFt",
        "outputId": "6e4bbc98-0272-4134-b8f5-16ae533fb5a6"
      },
      "outputs": [
        {
          "output_type": "stream",
          "name": "stdout",
          "text": [
            "your desired length is :12\n",
            "the desired password is  sJl<djM(6W)L\n"
          ]
        }
      ],
      "source": [
        "import random\n",
        "import string\n",
        "\n",
        "def user_pasword(length=12):\n",
        "\n",
        "    if length < 4:\n",
        "        return \"the Password shoulkd have atleast 4 characters\"\n",
        "\n",
        "    password=[\n",
        "        random.choice(string.ascii_lowercase),\n",
        "        random.choice(string.ascii_uppercase),\n",
        "        random.choice(string.digits),\n",
        "        random.choice(string.punctuation)\n",
        "    ]\n",
        "    characters=string.punctuation+string.ascii_letters+string.digits\n",
        "    password+=random.choices(characters,k=length-4)\n",
        "\n",
        "    random.shuffle(password)\n",
        "\n",
        "    return ''.join(password)\n",
        "\n",
        "try:\n",
        "    user_length=int(input(\"your desired length is :\"))\n",
        "    print(\"the desired password is \",user_pasword(user_length))\n",
        "except ValueError:\n",
        "    print(\"enter a number\")\n",
        "\n",
        "\n"
      ]
    }
  ]
}